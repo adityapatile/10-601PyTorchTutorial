{
 "cells": [
  {
   "cell_type": "code",
   "execution_count": 12,
   "metadata": {},
   "outputs": [],
   "source": [
    "import torch\n",
    "from torch import nn\n",
    "import numpy as np\n",
    "from matplotlib import pyplot as plt\n",
    "from torch.autograd import Variable\n",
    "import os\n",
    "import math\n",
    "from mpl_toolkits.axes_grid1 import ImageGrid\n",
    "%matplotlib inline"
   ]
  },
  {
   "cell_type": "markdown",
   "metadata": {},
   "source": [
    "# Install PyTorch\n",
    "Go to https://pytorch.org and setup on your laptop."
   ]
  },
  {
   "cell_type": "markdown",
   "metadata": {},
   "source": [
    "# Basics"
   ]
  },
  {
   "cell_type": "markdown",
   "metadata": {},
   "source": [
    "## Create tensors & variables"
   ]
  },
  {
   "cell_type": "code",
   "execution_count": 13,
   "metadata": {},
   "outputs": [
    {
     "name": "stdout",
     "output_type": "stream",
     "text": [
      "tensor([[0., 0.],\n",
      "        [0., 0.],\n",
      "        [0., 0.]])\n",
      "tensor([[0.7825, 0.4274, 0.1568],\n",
      "        [0.5071, 0.8700, 0.0060],\n",
      "        [0.9771, 0.5225, 0.0776],\n",
      "        [0.7939, 0.9533, 0.4792],\n",
      "        [0.4431, 0.2950, 0.1471]])\n",
      "tensor([[0.2325, 0.8714, 0.7695],\n",
      "        [0.7530, 0.2978, 0.3181],\n",
      "        [0.8756, 0.8983, 0.4312],\n",
      "        [0.8194, 0.1028, 0.5932],\n",
      "        [0.4998, 0.8707, 0.1874]], dtype=torch.float64)\n",
      "[[0.97589284 0.93408513 0.84264517]\n",
      " [0.86096835 0.99573743 0.67860526]\n",
      " [0.11003631 0.4751801  0.386046  ]\n",
      " [0.40562737 0.23600084 0.71260065]\n",
      " [0.5905866  0.97682625 0.34950882]]\n",
      "tensor([[0.2068, 0.5417, 0.4812],\n",
      "        [0.0238, 0.0621, 0.6321],\n",
      "        [0.9159, 0.8243, 0.4660],\n",
      "        [0.4365, 0.7145, 0.0208],\n",
      "        [0.1395, 0.4553, 0.3287]])\n"
     ]
    }
   ],
   "source": [
    "# Create a new tensor\n",
    "print(torch.zeros(3, 2))\n",
    "print(torch.rand(5, 3))\n",
    "print(torch.from_numpy(np.random.rand(5, 3)))\n",
    "print(torch.rand(5, 3).numpy())\n",
    "print(Variable(torch.rand(5, 3)))"
   ]
  },
  {
   "cell_type": "markdown",
   "metadata": {},
   "source": [
    "## Operations"
   ]
  },
  {
   "cell_type": "code",
   "execution_count": 14,
   "metadata": {},
   "outputs": [
    {
     "name": "stdout",
     "output_type": "stream",
     "text": [
      "Elementwise addition\n",
      "tensor([[0.6269, 1.2864, 1.0626],\n",
      "        [1.6193, 1.4094, 1.4888],\n",
      "        [1.3353, 1.5495, 0.7628],\n",
      "        [1.2964, 1.3031, 0.8084],\n",
      "        [1.0256, 1.2067, 1.8367]])\n",
      "\n",
      "Elementwise multiplication\n",
      "tensor([[0.1739, 0.4837, 0.0993],\n",
      "        [0.3463, 0.0558, 0.1171],\n",
      "        [0.8674, 0.3105, 0.2813],\n",
      "        [0.0489, 0.1662, 0.3481],\n",
      "        [0.6704, 0.0198, 0.0405]])\n",
      "\n",
      "Broadcast\n",
      "tensor([[1., 1., 1.],\n",
      "        [1., 1., 1.],\n",
      "        [1., 1., 1.],\n",
      "        [1., 1., 1.],\n",
      "        [1., 1., 1.]])\n",
      "\n",
      "Matrix multiplication\n",
      "tensor([[3., 3., 3., 3., 3.]])\n",
      "\n",
      "Batch Matrix multiplication\n",
      "tensor([[[3., 3., 3., 3., 3.]],\n",
      "\n",
      "        [[3., 3., 3., 3., 3.]],\n",
      "\n",
      "        [[3., 3., 3., 3., 3.]],\n",
      "\n",
      "        [[3., 3., 3., 3., 3.]],\n",
      "\n",
      "        [[3., 3., 3., 3., 3.]],\n",
      "\n",
      "        [[3., 3., 3., 3., 3.]],\n",
      "\n",
      "        [[3., 3., 3., 3., 3.]],\n",
      "\n",
      "        [[3., 3., 3., 3., 3.]],\n",
      "\n",
      "        [[3., 3., 3., 3., 3.]],\n",
      "\n",
      "        [[3., 3., 3., 3., 3.]]])\n",
      "\n",
      "Indexing\n",
      "tensor([[1., 1., 1.]])\n"
     ]
    }
   ],
   "source": [
    "# operations\n",
    "print('Elementwise addition')\n",
    "x = torch.rand(5, 3)\n",
    "y = torch.rand(5, 3)\n",
    "print(x + y)\n",
    "\n",
    "print('\\nElementwise multiplication')\n",
    "x = torch.rand(5, 3)\n",
    "y = torch.rand(5, 3)\n",
    "print(x * y)\n",
    "\n",
    "print('\\nBroadcast')\n",
    "x = torch.ones(5, 3)\n",
    "y = torch.ones(5, 1)\n",
    "print(x * y)\n",
    "\n",
    "print('\\nMatrix multiplication')\n",
    "x = torch.ones(1, 3)\n",
    "y = torch.ones(3, 5)\n",
    "print(torch.mm(x, y))\n",
    "\n",
    "print('\\nBatch Matrix multiplication')\n",
    "x = torch.ones(10, 1, 3)\n",
    "y = torch.ones(10, 3, 5)\n",
    "print(torch.bmm(x, y))\n",
    "\n",
    "print(\"\\nIndexing\")\n",
    "print(torch.ones(3, 3)[0:1, :])"
   ]
  },
  {
   "cell_type": "markdown",
   "metadata": {},
   "source": [
    "# Task: Digit Recogniton using Feedforward Neural Networks (FNN)\n",
    "\n",
    "## Introduction\n",
    "The goal is to label images of 10 handwritten digits of “zero”, “one”,..., “nine”. The images are 28 by 28 in size (MNIST dataset), which we will be represented as a vector x of dimension 784 by listing all the pixel values in raster scan order. The labels t are 0,1,2,...,9 corresponding to 10 classes as written in the image. There are 3000 training cases, containing 300 examples of each of 10 classes, 1000 validation (100 examples of each of 10 classes), and 3000 test cases (300 examples of each of 10 classes). they can be found in the file digitstrain.txt, digitsvalid.txt and digitstest.txt.\n",
    "\n",
    "### Download data\n",
    "If you clone this github repo, then the data should already be in the folder. \n",
    "\n",
    "If you are starting from your own folder, then please download the training/validation/testing data at https://drive.google.com/file/d/1hw-WeCe0EVZW34Y2T7_VE5o7XbOd0bdy/view?usp=sharing\n",
    "\n",
    "Please uncompress the data and put them in ./data folder of your current directory.\n",
    "\n",
    "### Data Format\n",
    "digitstrain.txt contains 3000 lines. Each line contains 785 numbers (comma delimited): the first 784 real-valued numbers correspond to the 784 pixel values, and the last number denotes the class label: 0 corresponds to digit 0, 1 corresponds to digit 1, etc. digitsvalid.txt and digitstest.txt contain 1000 and 3000 lines and use the same format as above. "
   ]
  },
  {
   "cell_type": "markdown",
   "metadata": {},
   "source": [
    "# Process Data\n",
    "\n",
    "1. Load data in terms of input and output pairs (x, y)\n",
    "2. Split training data into mini batches\n",
    "3. Random shuffle data at the begining of each epoch\n",
    "4. Streamline the batch loader"
   ]
  },
  {
   "cell_type": "code",
   "execution_count": 18,
   "metadata": {},
   "outputs": [],
   "source": [
    "class DataReader(object):\n",
    "    def __init__(self, path):\n",
    "        print \"Reading data from %s\" % path\n",
    "        self.path = path\n",
    "        train = self.read_file(\"digitstrain.txt\")\n",
    "        self.train_x = train[:, 0:-1]\n",
    "        self.train_y = train[:, -1].astype(int)\n",
    "        print(\"Read %d train samples\" % len(self.train_y))\n",
    "\n",
    "        dev = self.read_file(\"digitsvalid.txt\")\n",
    "        self.dev_x = dev[:, 0:-1]\n",
    "        self.dev_y = dev[:, -1].astype(int)\n",
    "        print(\"Read %d dev samples\" % len(self.dev_y))\n",
    "\n",
    "        test = self.read_file(\"digitstest.txt\")\n",
    "        self.test_x = test[:, 0:-1]\n",
    "        self.test_y = test[:, -1].astype(int)\n",
    "        print(\"Read %d test samples\" % len(self.test_y))\n",
    "\n",
    "        # get meta\n",
    "        self.num_classes = np.max(self.train_y) + 1\n",
    "        self.input_size = self.train_x.shape[1]\n",
    "        self.indexes = range(len(self.train_y))\n",
    "        self.train_size = len(self.train_y)\n",
    "        self.batch_size = 32\n",
    "\n",
    "    def read_file(self, name):\n",
    "        data = None\n",
    "        with open(os.path.join(self.path, name), 'rb') as f:\n",
    "            lines = f.readlines()\n",
    "            for idx, l in enumerate(lines):\n",
    "                new_row = map(float, l.split(','))\n",
    "                if data is None:\n",
    "                    data = np.zeros((len(lines), len(new_row)))\n",
    "                data[idx, :] = new_row\n",
    "        return data\n",
    "\n",
    "    def init(self, batch_size):\n",
    "        # shuffle\n",
    "        self.batch_size = batch_size\n",
    "        np.random.shuffle(self.indexes)\n",
    "        return int(math.ceil(self.train_size / float(batch_size)))\n",
    "\n",
    "    def get_batch(self, i):\n",
    "        selected_idx = self.indexes[i*self.batch_size : (i+1)*self.batch_size]\n",
    "        return self.train_x[selected_idx, :], self.train_y[selected_idx]"
   ]
  },
  {
   "cell_type": "markdown",
   "metadata": {},
   "source": [
    "# Build Model\n",
    "Let's build a 1-layer feedforward neural network\n",
    "\n",
    "1. Variable in PyTorch\n",
    "2. Use log_softmax instead of softmax for stability"
   ]
  },
  {
   "cell_type": "code",
   "execution_count": 19,
   "metadata": {},
   "outputs": [],
   "source": [
    "class FNN(nn.Module):\n",
    "    def __init__(self, input_size, hidden_size, output_size, non_linear='tanh'):\n",
    "        super(FNN, self).__init__()\n",
    "        self.fc1 = nn.Linear(input_size, hidden_size)\n",
    "        self.non_linear = nn.ReLU()\n",
    "        self.fc2 = nn.Linear(hidden_size, output_size)\n",
    "        \n",
    "    def forward(self, x):\n",
    "        var_x = Variable(torch.from_numpy(x).float())\n",
    "        logitis = self.fc2(self.non_linear(self.fc1(var_x)))\n",
    "        return nn.functional.log_softmax(logitis, dim=1)"
   ]
  },
  {
   "cell_type": "markdown",
   "metadata": {},
   "source": [
    "# Evaluate the Model\n",
    "\n",
    "It's a classification problem, so we evalaute in terms of:\n",
    "1. negative loglilhood (or cross entropy)\n",
    "2. accuracy"
   ]
  },
  {
   "cell_type": "code",
   "execution_count": 20,
   "metadata": {},
   "outputs": [],
   "source": [
    "def eval(data_x, data_y, model, loss_func, name):\n",
    "    model.eval()\n",
    "    log_py = model(data_x)\n",
    "    y = Variable(torch.from_numpy(data_y).long())\n",
    "    l = loss_func(log_py, y).item()\n",
    "    \n",
    "    pred = np.argmax(log_py.data.numpy(), axis=1)\n",
    "    acc = np.mean(pred == data_y)\n",
    "    print \"%s loss %f and acc %f \" % (name, l, acc)\n",
    "    return l, acc"
   ]
  },
  {
   "cell_type": "markdown",
   "metadata": {},
   "source": [
    "# Training the Model\n",
    "\n",
    "We need:\n",
    "1. a model\n",
    "2. a dataloader\n",
    "3. a loss function\n",
    "4. an optimizier\n",
    "\n",
    "We need to track:\n",
    "1. training loss\n",
    "2. validation loss (why ??)"
   ]
  },
  {
   "cell_type": "code",
   "execution_count": 16,
   "metadata": {
    "scrolled": false
   },
   "outputs": [
    {
     "name": "stdout",
     "output_type": "stream",
     "text": [
      "Reading data from data\n",
      "Read 3000 train samples\n",
      "Read 1000 dev samples\n",
      "Read 3000 test samples\n",
      "Epoch 0\n",
      "TRAIN loss 0.380775 and acc 0.895000 \n",
      "DEV loss 0.443527 and acc 0.870000 \n",
      "Epoch 1\n",
      "TRAIN loss 0.265844 and acc 0.921667 \n",
      "DEV loss 0.406946 and acc 0.877000 \n",
      "Epoch 2\n",
      "TRAIN loss 0.159150 and acc 0.961667 \n",
      "DEV loss 0.306971 and acc 0.908000 \n",
      "Epoch 3\n",
      "TRAIN loss 0.136602 and acc 0.963333 \n",
      "DEV loss 0.311563 and acc 0.904000 \n",
      "Epoch 4\n",
      "TRAIN loss 0.085457 and acc 0.982000 \n",
      "DEV loss 0.263927 and acc 0.913000 \n",
      "Epoch 5\n",
      "TRAIN loss 0.058324 and acc 0.991333 \n",
      "DEV loss 0.252520 and acc 0.916000 \n",
      "Epoch 6\n",
      "TRAIN loss 0.055378 and acc 0.990333 \n",
      "DEV loss 0.284783 and acc 0.918000 \n",
      "Epoch 7\n",
      "TRAIN loss 0.032721 and acc 0.997000 \n",
      "DEV loss 0.261380 and acc 0.918000 \n",
      "Epoch 8\n",
      "TRAIN loss 0.022547 and acc 0.998667 \n",
      "DEV loss 0.245427 and acc 0.930000 \n",
      "Epoch 9\n",
      "TRAIN loss 0.017927 and acc 0.999333 \n",
      "DEV loss 0.248705 and acc 0.922000 \n",
      "Epoch 10\n",
      "TRAIN loss 0.012942 and acc 1.000000 \n",
      "DEV loss 0.245811 and acc 0.933000 \n",
      "Epoch 11\n",
      "TRAIN loss 0.010820 and acc 1.000000 \n",
      "DEV loss 0.255922 and acc 0.925000 \n",
      "Epoch 12\n",
      "TRAIN loss 0.009334 and acc 1.000000 \n",
      "DEV loss 0.258421 and acc 0.926000 \n",
      "Epoch 13\n",
      "TRAIN loss 0.008310 and acc 1.000000 \n",
      "DEV loss 0.257950 and acc 0.924000 \n",
      "Epoch 14\n",
      "TRAIN loss 0.007204 and acc 1.000000 \n",
      "DEV loss 0.258735 and acc 0.929000 \n",
      "Epoch 15\n",
      "TRAIN loss 0.006598 and acc 1.000000 \n",
      "DEV loss 0.260686 and acc 0.927000 \n",
      "Epoch 16\n",
      "TRAIN loss 0.005989 and acc 1.000000 \n",
      "DEV loss 0.262122 and acc 0.930000 \n",
      "Epoch 17\n",
      "TRAIN loss 0.005379 and acc 1.000000 \n",
      "DEV loss 0.260503 and acc 0.930000 \n",
      "Epoch 18\n",
      "TRAIN loss 0.004899 and acc 1.000000 \n",
      "DEV loss 0.263476 and acc 0.931000 \n",
      "Epoch 19\n",
      "TRAIN loss 0.004515 and acc 1.000000 \n",
      "DEV loss 0.264237 and acc 0.932000 \n"
     ]
    }
   ],
   "source": [
    "NUM_EPOCH = 20\n",
    "BATCH_SIZE = 10\n",
    "LR = 0.1\n",
    "MOMENTUM = 0.0\n",
    "L2_DECAY = 0.0\n",
    "\n",
    "data_loader = DataReader('data')\n",
    "model = FNN(input_size=784, hidden_size=300, output_size=10)\n",
    "nll_loss = nn.NLLLoss()\n",
    "op = torch.optim.SGD(model.parameters(), lr=LR, \n",
    "                     momentum=MOMENTUM, weight_decay=L2_DECAY)\n",
    "\n",
    "train_metric, dev_metric = [], []\n",
    "for i in range(NUM_EPOCH):\n",
    "    print(\"Epoch %d\" % i)\n",
    "    num_batches = data_loader.init(batch_size=BATCH_SIZE)\n",
    "    model.train()\n",
    "    for b in range(num_batches):\n",
    "        x, y = data_loader.get_batch(b)\n",
    "        pred_y = model(x)\n",
    "        y = Variable(torch.from_numpy(y).long())\n",
    "        loss = nll_loss(pred_y, y)\n",
    "        op.zero_grad()\n",
    "        loss.backward()\n",
    "        op.step()\n",
    "\n",
    "    train_metric.append(eval(data_loader.train_x, data_loader.train_y, model, nll_loss, \"TRAIN\"))\n",
    "    dev_metric.append(eval(data_loader.dev_x, data_loader.dev_y, model, nll_loss, \"DEV\"))"
   ]
  },
  {
   "cell_type": "markdown",
   "metadata": {},
   "source": [
    "# Visualize the Model Performance"
   ]
  },
  {
   "cell_type": "code",
   "execution_count": 17,
   "metadata": {},
   "outputs": [
    {
     "data": {
      "text/plain": [
       "[<matplotlib.lines.Line2D at 0x11d90c1d0>]"
      ]
     },
     "execution_count": 17,
     "metadata": {},
     "output_type": "execute_result"
    },
    {
     "data": {
      "image/png": "[encoded data removed]",
      "text/plain": [
       "<Figure size 432x288 with 1 Axes>"
      ]
     },
     "metadata": {
      "needs_background": "light"
     },
     "output_type": "display_data"
    }
   ],
   "source": [
    "plt.plot([l for l, a in train_metric])\n",
    "plt.plot(np.array([l for l, a in dev_metric]))"
   ]
  },
  {
   "cell_type": "code",
   "execution_count": 18,
   "metadata": {},
   "outputs": [
    {
     "data": {
      "text/plain": [
       "[<matplotlib.lines.Line2D at 0x11fe47990>]"
      ]
     },
     "execution_count": 18,
     "metadata": {},
     "output_type": "execute_result"
    },
    {
     "data": {
      "image/png": "[encoded data removed]",
      "text/plain": [
       "<Figure size 432x288 with 1 Axes>"
      ]
     },
     "metadata": {
      "needs_background": "light"
     },
     "output_type": "display_data"
    }
   ],
   "source": [
    "plt.plot([a for l, a in train_metric])\n",
    "plt.plot([a for l, a in dev_metric])"
   ]
  },
  {
   "cell_type": "code",
   "execution_count": null,
   "metadata": {},
   "outputs": [],
   "source": [
    "fc1_w = model.fc1.weight.t()\n",
    "filters = np.reshape(fc1_w.data.numpy(), [28, 28, 300])\n",
    "fig = plt.figure(1, (10., 10.))\n",
    "grid = ImageGrid(fig, 111,  # similar to subplot(111)\n",
    "                 nrows_ncols=(10, 10),  # creates 2x2 grid of axes\n",
    "                 axes_pad=0.1,  # pad between axes in inch.\n",
    "                )\n",
    "\n",
    "for i in range(100):\n",
    "    grid[i].imshow(filters[:,:, i], cmap='Greys_r')  # The AxesGrid object work as a list of axes.\n",
    "\n",
    "plt.show()"
   ]
  },
  {
   "cell_type": "markdown",
   "metadata": {},
   "source": [
    "# Tune your models\n",
    "Parameters you can tune:\n",
    "1. Model architecture\n",
    "    - Hidden layer size [50, 100, 300, 600]\n",
    "    - Number of hidden layers [1, 2, 3]\n",
    "    - Dropout [0.0, 0.3, 0.5]\n",
    "2. Optimization\n",
    "    - Optimizer type \n",
    "    - Learning rate [0.0, 0.5, 0.9]\n",
    "    - Momentum\n",
    "    - Gradient clipping\n",
    "    - L2 weight decay\n",
    "    - L1 weight decay"
   ]
  },
  {
   "cell_type": "code",
   "execution_count": null,
   "metadata": {},
   "outputs": [],
   "source": []
  }
 ],
 "metadata": {
  "kernelspec": {
   "display_name": "Python 2",
   "language": "python",
   "name": "python2"
  },
  "language_info": {
   "codemirror_mode": {
    "name": "ipython",
    "version": 2
   },
   "file_extension": ".py",
   "mimetype": "text/x-python",
   "name": "python",
   "nbconvert_exporter": "python",
   "pygments_lexer": "ipython2",
   "version": "2.7.15"
  }
 },
 "nbformat": 4,
 "nbformat_minor": 2
}
